{
  "nbformat": 4,
  "nbformat_minor": 0,
  "metadata": {
    "colab": {
      "provenance": []
    },
    "kernelspec": {
      "name": "python3",
      "display_name": "Python 3"
    },
    "language_info": {
      "name": "python"
    }
  },
  "cells": [
    {
      "cell_type": "code",
      "execution_count": null,
      "metadata": {
        "id": "xoCvUcA71CAG"
      },
      "outputs": [],
      "source": [
        "question1\n",
        "\n",
        "A) \"Invalid input"
      ]
    },
    {
      "cell_type": "code",
      "source": [
        "question 2\n",
        "\n",
        "A) \"Error: Not a positive integer\"\n"
      ],
      "metadata": {
        "id": "fwF9Kfvy3TIS"
      },
      "execution_count": null,
      "outputs": []
    },
    {
      "cell_type": "code",
      "source": [
        "question 3\n",
        "\n",
        "A) \"Result: Infinity\""
      ],
      "metadata": {
        "id": "JSXld_xH37uY"
      },
      "execution_count": null,
      "outputs": []
    },
    {
      "cell_type": "code",
      "source": [
        "question 4\n",
        "\n",
        "B) [1, 4, 9, 16, 25]"
      ],
      "metadata": {
        "id": "hXeJFsfi4P8M"
      },
      "execution_count": null,
      "outputs": []
    },
    {
      "cell_type": "code",
      "source": [
        "question 5\n",
        "A) 2\n"
      ],
      "metadata": {
        "id": "GqkOAxav4Z98"
      },
      "execution_count": null,
      "outputs": []
    },
    {
      "cell_type": "code",
      "source": [
        "question 6\n",
        "A) {1, 2, 3, 5, 6, 7, 9, 10}\n"
      ],
      "metadata": {
        "id": "MSE5cbp04jp1"
      },
      "execution_count": null,
      "outputs": []
    },
    {
      "cell_type": "code",
      "source": [
        "question 7\n",
        "B) 20"
      ],
      "metadata": {
        "id": "Eh4UhyWh5wfU"
      },
      "execution_count": null,
      "outputs": []
    },
    {
      "cell_type": "code",
      "source": [
        "question 8\n",
        "A) \"!dlroW ,olleH\""
      ],
      "metadata": {
        "id": "C_S4grvg57fL"
      },
      "execution_count": null,
      "outputs": []
    },
    {
      "cell_type": "code",
      "source": [
        "question 9\n",
        "B) 3"
      ],
      "metadata": {
        "id": "p-DuyQFe6D9B"
      },
      "execution_count": null,
      "outputs": []
    },
    {
      "cell_type": "code",
      "source": [
        "question 10\n",
        "D) ValueError"
      ],
      "metadata": {
        "id": "jth1Vl76678A"
      },
      "execution_count": null,
      "outputs": []
    },
    {
      "cell_type": "code",
      "source": [
        "question 11\n",
        "B) 15"
      ],
      "metadata": {
        "id": "rVhCAZ8O7FZN"
      },
      "execution_count": null,
      "outputs": []
    },
    {
      "cell_type": "code",
      "source": [
        "question 12\n",
        "B) TypeError"
      ],
      "metadata": {
        "id": "UGXtf3_77kbp"
      },
      "execution_count": null,
      "outputs": []
    },
    {
      "cell_type": "code",
      "source": [
        "question 13\n",
        "A) 5.0 Done"
      ],
      "metadata": {
        "id": "gRjPzZWe8HJc"
      },
      "execution_count": null,
      "outputs": []
    },
    {
      "cell_type": "code",
      "source": [
        "question 14\n",
        "B) 5"
      ],
      "metadata": {
        "id": "hZMOudrI8xNw"
      },
      "execution_count": null,
      "outputs": []
    },
    {
      "cell_type": "code",
      "source": [
        "question 15\n",
        "A) [1, 2, 3, 4]"
      ],
      "metadata": {
        "id": "V33x2cii9EOG"
      },
      "execution_count": null,
      "outputs": []
    },
    {
      "cell_type": "code",
      "source": [
        "question 16\n",
        "B) [2, 4]"
      ],
      "metadata": {
        "id": "FAJrfSf19WTP"
      },
      "execution_count": null,
      "outputs": []
    },
    {
      "cell_type": "code",
      "source": [
        "question 17\n",
        "A) Hello Alice"
      ],
      "metadata": {
        "id": "g_kKwijy9WO4"
      },
      "execution_count": null,
      "outputs": []
    },
    {
      "cell_type": "code",
      "source": [
        "question 18\n",
        "B) 11"
      ],
      "metadata": {
        "id": "VUa9GO_b9WB-"
      },
      "execution_count": null,
      "outputs": []
    },
    {
      "cell_type": "code",
      "source": [
        "question 19\n",
        "C) 120"
      ],
      "metadata": {
        "id": "uxR2WdGx94Pn"
      },
      "execution_count": null,
      "outputs": []
    },
    {
      "cell_type": "code",
      "source": [
        "question 20\n",
        "B) 3"
      ],
      "metadata": {
        "id": "aQ8_PaqA94MH"
      },
      "execution_count": null,
      "outputs": []
    },
    {
      "cell_type": "code",
      "source": [
        "question 21\n",
        "A) True"
      ],
      "metadata": {
        "id": "WTS76p6Q-LkY"
      },
      "execution_count": null,
      "outputs": []
    },
    {
      "cell_type": "code",
      "source": [
        "question 22\n",
        "B) \"HELLO, ALICE\""
      ],
      "metadata": {
        "id": "f5P1dJkF-LWJ"
      },
      "execution_count": null,
      "outputs": []
    },
    {
      "cell_type": "code",
      "source": [
        "question 23\n",
        "A) \"Time taken: 2.0 seconds\""
      ],
      "metadata": {
        "id": "FGdCYrlD-n_F"
      },
      "execution_count": null,
      "outputs": []
    },
    {
      "cell_type": "code",
      "source": [
        "question 24\n",
        "A) \"Arguments: 3, 4, Result: 7\""
      ],
      "metadata": {
        "id": "0OmJUunY-n7l"
      },
      "execution_count": null,
      "outputs": []
    },
    {
      "cell_type": "code",
      "source": [
        "question 25\n",
        "B) 55"
      ],
      "metadata": {
        "id": "C_xCE6ne_tPs"
      },
      "execution_count": null,
      "outputs": []
    },
    {
      "cell_type": "code",
      "source": [
        "question 26\n",
        "A) \"Admin panel accessed.\""
      ],
      "metadata": {
        "id": "O6iQEB4A_vc5"
      },
      "execution_count": null,
      "outputs": []
    },
    {
      "cell_type": "code",
      "source": [
        "question 27\n",
        "B) \"Attempt 1: Operation failed\""
      ],
      "metadata": {
        "id": "EGPNW34K_7GJ"
      },
      "execution_count": null,
      "outputs": []
    },
    {
      "cell_type": "markdown",
      "source": [
        "CODING"
      ],
      "metadata": {
        "id": "z2sKW-hBBADr"
      }
    },
    {
      "cell_type": "markdown",
      "source": [
        "6.Maximum Subarray SumExample:\n",
        "\n",
        "python\n",
        "n = 9\n",
        "arr = [-2, 1, -3, 4, -1, 2, 1, -5, 4]\n",
        "result = max_subarray_sum(arr, n)\n",
        "print(result)  # This should output 6, which is the maximum sum of [4, -1, 2, 1].\n",
        "\n",
        "\n",
        "Note:\n",
        "\n",
        "In the example provided, the maximum sum is obtained by selecting the subarray [4, -1, 2, 1], which gives a sum of 6.\n"
      ],
      "metadata": {
        "id": "9wxdGJqaBExL"
      }
    },
    {
      "cell_type": "code",
      "source": [
        "def max_subarray_sum(n,arr):\n",
        "  max=0\n",
        "  current=0\n",
        "  i=0\n",
        "  while i < n:\n",
        "    if current<0:\n",
        "      current=0\n",
        "    current=current+arr[i]\n",
        "    if current> max:\n",
        "      max=current\n",
        "    i=i+1\n",
        "  return max\n",
        "\n",
        "\n",
        "\n",
        "\n",
        "n= int(input())\n",
        "arr=[]\n",
        "for i in range(n):\n",
        "  arr.append(int(input()))\n",
        "result=max_subarray_sum(n,arr)\n",
        "print(result)\n"
      ],
      "metadata": {
        "colab": {
          "base_uri": "https://localhost:8080/"
        },
        "id": "dQHsbhOSAMXC",
        "outputId": "1a9d9020-2fcc-47e9-88ae-89f75df99177"
      },
      "execution_count": 5,
      "outputs": [
        {
          "output_type": "stream",
          "name": "stdout",
          "text": [
            "9\n",
            "-2\n",
            "1\n",
            "-3\n",
            "4\n",
            "-1\n",
            "2\n",
            "1\n",
            "-5\n",
            "4\n",
            "6\n"
          ]
        }
      ]
    },
    {
      "cell_type": "markdown",
      "source": [
        "1.Problem Statement: Employee Performance Evaluation"
      ],
      "metadata": {
        "id": "dpfh0R2aG5O2"
      }
    },
    {
      "cell_type": "code",
      "source": [
        "def calculate_performance_scores(employees):\n",
        "    result = []\n",
        "\n",
        "    for employee in employees:\n",
        "        name = employee[\"name\"]\n",
        "        scores = employee[\"scores\"]\n",
        "        weights = employee[\"weights\"]\n",
        "\n",
        "\n",
        "        weighted_scores = {x: scores[x] * weights[x] for x in scores}\n",
        "        performance_score = sum(weighted_scores.values())\n",
        "        employee_performance = {\n",
        "            \"name\": name,\n",
        "            \"performance_score\": performance_score\n",
        "        }\n",
        "\n",
        "        result.append(employee_performance)\n",
        "\n",
        "    return result\n",
        "\n",
        "employees = [\n",
        "    {\n",
        "        \"name\": \"John\",\n",
        "        \"scores\": {\n",
        "            \"Quality of Work\": 90,\n",
        "            \"Team Collaboration\": 80\n",
        "        },\n",
        "        \"weights\": {\n",
        "            \"Quality of Work\": 0.6,\n",
        "            \"Team Collaboration\": 0.4\n",
        "        }\n",
        "    },\n",
        "    {\n",
        "        \"name\": \"Alice\",\n",
        "        \"scores\": {\n",
        "            \"Quality of Work\": 85,\n",
        "            \"Team Collaboration\": 95\n",
        "        },\n",
        "        \"weights\": {\n",
        "            \"Quality of Work\": 0.5,\n",
        "            \"Team Collaboration\": 0.5\n",
        "        }\n",
        "    }\n",
        "]\n",
        "\n",
        "performance_scores = calculate_performance_scores(employees)\n",
        "for employee in performance_scores:\n",
        "    print(f\"{employee['name']}: Performance Score = {employee['performance_score']}\")\n"
      ],
      "metadata": {
        "colab": {
          "base_uri": "https://localhost:8080/"
        },
        "id": "Lq7FB-mlDND2",
        "outputId": "54bbf1df-c330-485f-8d8d-8115136e1902"
      },
      "execution_count": 8,
      "outputs": [
        {
          "output_type": "stream",
          "name": "stdout",
          "text": [
            "John: Performance Score = 86.0\n",
            "Alice: Performance Score = 90.0\n"
          ]
        }
      ]
    },
    {
      "cell_type": "markdown",
      "source": [
        "5.Circular Picnic Game\n"
      ],
      "metadata": {
        "id": "kwoH7_yAK4DA"
      }
    },
    {
      "cell_type": "code",
      "source": [
        "def circular_maximum_sum(n, numbers):\n",
        "    max_end = max_so_far = numbers[0]\n",
        "    min_end = min_so_far = numbers[0]\n",
        "    total_sum = numbers[0]\n",
        "\n",
        "\n",
        "    for i in range(1, n):\n",
        "        num = numbers[i]\n",
        "        max_end = max(num, max_end + num)\n",
        "        min_end = min(num, min_end + num)\n",
        "        max_so_far = max(max_so_far, max_end)\n",
        "        total_sum += num\n",
        "    if max_so_far < 0:\n",
        "        return max_so_far\n",
        "    else:\n",
        "        return max(max_so_far, total_sum - min_so_far)\n",
        "\n",
        "\n",
        "n = 5\n",
        "numbers = [10, -4, 1, 3, 3]\n",
        "result = circular_maximum_sum(n, numbers)\n",
        "print(result)\n"
      ],
      "metadata": {
        "colab": {
          "base_uri": "https://localhost:8080/"
        },
        "id": "5yc8feq5Jvul",
        "outputId": "51347d90-fe25-4e9b-fb8c-b80e900f5273"
      },
      "execution_count": 14,
      "outputs": [
        {
          "output_type": "stream",
          "name": "stdout",
          "text": [
            "13\n"
          ]
        }
      ]
    },
    {
      "cell_type": "markdown",
      "source": [
        "7.Longest Common Subsequence"
      ],
      "metadata": {
        "id": "WEzZHypbLv9b"
      }
    },
    {
      "cell_type": "code",
      "source": [
        "def longest_sub(s1, s2):\n",
        "    m, n = len(s1), len(s2)\n",
        "    dp = [[0] * (n + 1) for _ in range(m + 1)]\n",
        "\n",
        "    for i in range(1, m + 1):\n",
        "        for j in range(1, n + 1):\n",
        "            if s1[i - 1] == s2[j - 1]:\n",
        "                dp[i][j] = dp[i - 1][j - 1] + 1\n",
        "            else:\n",
        "                dp[i][j] = max(dp[i - 1][j], dp[i][j - 1])\n",
        "    return dp[m][n]\n",
        "\n",
        "s1 = \"AGGTAB\"\n",
        "s2 = \"GXTXAYB\"\n",
        "result = longest_sub(s1, s2)\n",
        "print(result)\n"
      ],
      "metadata": {
        "colab": {
          "base_uri": "https://localhost:8080/"
        },
        "id": "yO-NvayUKkqg",
        "outputId": "8c4afec6-62fc-4cef-df62-74c541207f5c"
      },
      "execution_count": 17,
      "outputs": [
        {
          "output_type": "stream",
          "name": "stdout",
          "text": [
            "4\n"
          ]
        }
      ]
    },
    {
      "cell_type": "markdown",
      "source": [
        "8.Matrix Spiral Order"
      ],
      "metadata": {
        "id": "qh4XKGs1MQMp"
      }
    },
    {
      "cell_type": "code",
      "source": [
        "def spiral_order(matrix):\n",
        "    result = []\n",
        "\n",
        "    while matrix:\n",
        "        result += matrix.pop(0)\n",
        "        if matrix and matrix[0]:\n",
        "            for row in matrix:\n",
        "                result.append(row.pop())\n",
        "        if matrix:\n",
        "            result += matrix.pop()[::-1]\n",
        "        if matrix and matrix[0]:\n",
        "            for row in matrix[::-1]:\n",
        "                result.append(row.pop(0))\n",
        "\n",
        "    return result\n",
        "\n",
        "\n",
        "matrix = [\n",
        "    [1, 2, 3],\n",
        "    [4, 5, 6],\n",
        "    [7, 8, 9]\n",
        "]\n",
        "result = spiral_order(matrix)\n",
        "print(result)\n"
      ],
      "metadata": {
        "colab": {
          "base_uri": "https://localhost:8080/"
        },
        "id": "mmGVmqcALdOi",
        "outputId": "190e18b8-b905-4554-d8d6-fac7866e91c4"
      },
      "execution_count": 18,
      "outputs": [
        {
          "output_type": "stream",
          "name": "stdout",
          "text": [
            "[1, 2, 3, 6, 9, 8, 7, 4, 5]\n"
          ]
        }
      ]
    },
    {
      "cell_type": "markdown",
      "source": [
        "3.Problem Statement: Sorting Employee Records"
      ],
      "metadata": {
        "id": "W2GwaZ4xM79w"
      }
    },
    {
      "cell_type": "code",
      "source": [
        "def sort_employees_by_id(employees):\n",
        "    sorted_employees = sorted(employees, key=lambda x: x['id'])\n",
        "    return sorted_employees\n",
        "\n",
        "def sort_employees_by_salary(employees):\n",
        "   sorted_employees = sorted(employees, key=lambda x: x['salary'], reverse=True)\n",
        "   return sorted_employees\n",
        "\n",
        "\n",
        "employees = [\n",
        "    {'id': 3, 'name': 'John', 'salary': 60000},\n",
        "    {'id': 1, 'name': 'Alice', 'salary': 75000},\n",
        "    {'id': 2, 'name': 'Bob', 'salary': 80000}\n",
        "]\n",
        "\n",
        "sorted_by_id = sort_employees_by_id(employees)\n",
        "sorted_by_salary = sort_employees_by_salary(employees)\n",
        "\n",
        "print(\"Sorted by ID:\")\n",
        "for employee in sorted_by_id:\n",
        "    print(employee)\n",
        "\n",
        "print(\"\\nSorted by Salary:\")\n",
        "for employee in sorted_by_salary:\n",
        "    print(employee)\n"
      ],
      "metadata": {
        "colab": {
          "base_uri": "https://localhost:8080/"
        },
        "id": "sdZWeUOsMNbW",
        "outputId": "8bcf5494-6898-44d8-e3eb-66f633846de5"
      },
      "execution_count": 24,
      "outputs": [
        {
          "output_type": "stream",
          "name": "stdout",
          "text": [
            "Sorted by ID:\n",
            "{'id': 1, 'name': 'Alice', 'salary': 75000}\n",
            "{'id': 2, 'name': 'Bob', 'salary': 80000}\n",
            "{'id': 3, 'name': 'John', 'salary': 60000}\n",
            "\n",
            "Sorted by Salary:\n",
            "{'id': 2, 'name': 'Bob', 'salary': 80000}\n",
            "{'id': 1, 'name': 'Alice', 'salary': 75000}\n",
            "{'id': 3, 'name': 'John', 'salary': 60000}\n"
          ]
        }
      ]
    },
    {
      "cell_type": "code",
      "source": [],
      "metadata": {
        "id": "Cr0_9x6GMyHq"
      },
      "execution_count": null,
      "outputs": []
    }
  ]
}